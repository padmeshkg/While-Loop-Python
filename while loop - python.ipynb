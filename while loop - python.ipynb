{
 "cells": [
  {
   "cell_type": "markdown",
   "id": "379b1113",
   "metadata": {},
   "source": [
    "### Basic While loop"
   ]
  },
  {
   "cell_type": "code",
   "execution_count": 1,
   "id": "1a30a12e",
   "metadata": {},
   "outputs": [
    {
     "name": "stdout",
     "output_type": "stream",
     "text": [
      "2\n",
      "3\n",
      "4\n",
      "5\n",
      "6\n",
      "7\n",
      "8\n",
      "9\n",
      "10\n",
      "11\n"
     ]
    }
   ],
   "source": [
    "a = 1\n",
    "b = 10\n",
    "while a <=b :    \n",
    "    a = a +1\n",
    "    print(a)"
   ]
  },
  {
   "cell_type": "markdown",
   "id": "faac4aa7",
   "metadata": {},
   "source": [
    "### While-Else loop with condition"
   ]
  },
  {
   "cell_type": "code",
   "execution_count": 2,
   "id": "4867e9b0",
   "metadata": {},
   "outputs": [
    {
     "name": "stdout",
     "output_type": "stream",
     "text": [
      "1\n",
      "3\n",
      "5\n",
      "7\n",
      "9\n",
      "print this else block\n"
     ]
    }
   ],
   "source": [
    "a = 1\n",
    "b = 10 \n",
    "while a <=b :\n",
    "    print(a)\n",
    "    a = a +2\n",
    "else :\n",
    "    print(\"print this else block\")"
   ]
  },
  {
   "cell_type": "markdown",
   "id": "593b3339",
   "metadata": {},
   "source": [
    "### While loop with break condition"
   ]
  },
  {
   "cell_type": "code",
   "execution_count": 3,
   "id": "3a6a91e2",
   "metadata": {},
   "outputs": [
    {
     "name": "stdout",
     "output_type": "stream",
     "text": [
      "1\n",
      "2\n",
      "3\n",
      "4\n",
      "5\n"
     ]
    }
   ],
   "source": [
    "a = 1 \n",
    "b = 10 \n",
    "while a <10 :\n",
    "    print(a)\n",
    "    if a == 5:\n",
    "        break\n",
    "    a = a +1\n",
    "else :\n",
    "    print(\"print this \")"
   ]
  },
  {
   "cell_type": "markdown",
   "id": "a185354e",
   "metadata": {},
   "source": [
    "### While loop with continue condtion"
   ]
  },
  {
   "cell_type": "code",
   "execution_count": null,
   "id": "c656bb34",
   "metadata": {},
   "outputs": [],
   "source": [
    "a = 1 \n",
    "b = 10 \n",
    "while a < b :\n",
    "    print(a)\n",
    "    if a == 3:\n",
    "        continue\n",
    "    a = a +1"
   ]
  },
  {
   "cell_type": "markdown",
   "id": "4ae6e8b3",
   "metadata": {},
   "source": [
    "### Print index position of specified number in a tuple"
   ]
  },
  {
   "cell_type": "code",
   "execution_count": 4,
   "id": "b0f5e62d",
   "metadata": {},
   "outputs": [],
   "source": [
    "t = (3,4,5,6,7,8,9)"
   ]
  },
  {
   "cell_type": "code",
   "execution_count": 5,
   "id": "6b58b7f1",
   "metadata": {},
   "outputs": [
    {
     "data": {
      "text/plain": [
       "7"
      ]
     },
     "execution_count": 5,
     "metadata": {},
     "output_type": "execute_result"
    }
   ],
   "source": [
    "len(t)"
   ]
  },
  {
   "cell_type": "code",
   "execution_count": 6,
   "id": "06e9ca9d",
   "metadata": {},
   "outputs": [
    {
     "data": {
      "text/plain": [
       "5"
      ]
     },
     "execution_count": 6,
     "metadata": {},
     "output_type": "execute_result"
    }
   ],
   "source": [
    "t[2]"
   ]
  },
  {
   "cell_type": "code",
   "execution_count": 7,
   "id": "3d72b024",
   "metadata": {},
   "outputs": [
    {
     "name": "stdout",
     "output_type": "stream",
     "text": [
      "3\n",
      "4\n"
     ]
    }
   ],
   "source": [
    "t = (3,4,5,6,7,8,9)\n",
    "a = 0 \n",
    "while a < len(t):\n",
    "    if t[a] == 6 or t[a] == 7 :\n",
    "        print(a)\n",
    "    a = a +1"
   ]
  },
  {
   "cell_type": "markdown",
   "id": "80bfe95d",
   "metadata": {},
   "source": [
    "### Print values in dict using while loop"
   ]
  },
  {
   "cell_type": "code",
   "execution_count": 8,
   "id": "595ea311",
   "metadata": {},
   "outputs": [],
   "source": [
    "d = {'k1' :\"python\" , \"k2\" :[1,2,3,4] , \"k3\" : (2,3,4,5)}"
   ]
  },
  {
   "cell_type": "code",
   "execution_count": 9,
   "id": "0e0c9ccb",
   "metadata": {},
   "outputs": [
    {
     "data": {
      "text/plain": [
       "['k1', 'k2', 'k3']"
      ]
     },
     "execution_count": 9,
     "metadata": {},
     "output_type": "execute_result"
    }
   ],
   "source": [
    "list(d.keys())"
   ]
  },
  {
   "cell_type": "code",
   "execution_count": 10,
   "id": "f421c6f8",
   "metadata": {},
   "outputs": [
    {
     "data": {
      "text/plain": [
       "3"
      ]
     },
     "execution_count": 10,
     "metadata": {},
     "output_type": "execute_result"
    }
   ],
   "source": [
    "len(d)"
   ]
  },
  {
   "cell_type": "code",
   "execution_count": 11,
   "id": "1e4e38d3",
   "metadata": {},
   "outputs": [
    {
     "name": "stdout",
     "output_type": "stream",
     "text": [
      "python\n",
      "[1, 2, 3, 4]\n",
      "(2, 3, 4, 5)\n"
     ]
    }
   ],
   "source": [
    "a = 0 \n",
    "b = list(d.keys())\n",
    "while a < len(d):\n",
    "    print(d[b[a]])\n",
    "    \n",
    "    a = a+1\n",
    "    \n",
    "    "
   ]
  },
  {
   "cell_type": "markdown",
   "id": "92fd7a24",
   "metadata": {},
   "source": [
    "# Function"
   ]
  },
  {
   "cell_type": "code",
   "execution_count": 12,
   "id": "4b59adad",
   "metadata": {},
   "outputs": [],
   "source": [
    "def test():\n",
    "    print(\"this is my first function\")"
   ]
  },
  {
   "cell_type": "code",
   "execution_count": 13,
   "id": "55dedfe1",
   "metadata": {},
   "outputs": [
    {
     "name": "stdout",
     "output_type": "stream",
     "text": [
      "this is my first function\n"
     ]
    }
   ],
   "source": [
    "test()"
   ]
  },
  {
   "cell_type": "code",
   "execution_count": 14,
   "id": "f9368e10",
   "metadata": {},
   "outputs": [
    {
     "name": "stdout",
     "output_type": "stream",
     "text": [
      "this is my first function\n"
     ]
    },
    {
     "data": {
      "text/plain": [
       "'None python'"
      ]
     },
     "execution_count": 14,
     "metadata": {},
     "output_type": "execute_result"
    }
   ],
   "source": [
    "str(test()) + \" python\""
   ]
  },
  {
   "cell_type": "code",
   "execution_count": 15,
   "id": "d0ab769f",
   "metadata": {},
   "outputs": [
    {
     "name": "stdout",
     "output_type": "stream",
     "text": [
      "this is my first function\n"
     ]
    },
    {
     "data": {
      "text/plain": [
       "NoneType"
      ]
     },
     "execution_count": 15,
     "metadata": {},
     "output_type": "execute_result"
    }
   ],
   "source": [
    "type(test())"
   ]
  },
  {
   "cell_type": "markdown",
   "id": "d5cfca5d",
   "metadata": {},
   "source": [
    "### Fuction with return as oputput "
   ]
  },
  {
   "cell_type": "code",
   "execution_count": 16,
   "id": "bd527ed1",
   "metadata": {},
   "outputs": [],
   "source": [
    "def test1():\n",
    "    return \"this is my first function of\""
   ]
  },
  {
   "cell_type": "code",
   "execution_count": 17,
   "id": "e4d0ae4b",
   "metadata": {},
   "outputs": [
    {
     "data": {
      "text/plain": [
       "'this is my first function of'"
      ]
     },
     "execution_count": 17,
     "metadata": {},
     "output_type": "execute_result"
    }
   ],
   "source": [
    "test1()"
   ]
  },
  {
   "cell_type": "code",
   "execution_count": 18,
   "id": "1cfaf286",
   "metadata": {},
   "outputs": [
    {
     "data": {
      "text/plain": [
       "'this is my first function of Python'"
      ]
     },
     "execution_count": 18,
     "metadata": {},
     "output_type": "execute_result"
    }
   ],
   "source": [
    "test1() + \" Python\""
   ]
  },
  {
   "cell_type": "markdown",
   "id": "6539cfcd",
   "metadata": {},
   "source": [
    "### Assigning values using function"
   ]
  },
  {
   "cell_type": "code",
   "execution_count": 19,
   "id": "7b18f2c2",
   "metadata": {},
   "outputs": [],
   "source": [
    "def test3() : \n",
    "    return 1,3 ,5 , [1,2,3,4,54,5]"
   ]
  },
  {
   "cell_type": "code",
   "execution_count": 20,
   "id": "d7e2a76f",
   "metadata": {},
   "outputs": [
    {
     "data": {
      "text/plain": [
       "(1, 3, 5, [1, 2, 3, 4, 54, 5])"
      ]
     },
     "execution_count": 20,
     "metadata": {},
     "output_type": "execute_result"
    }
   ],
   "source": [
    "test3()"
   ]
  },
  {
   "cell_type": "code",
   "execution_count": 21,
   "id": "1c0eeb47",
   "metadata": {},
   "outputs": [],
   "source": [
    "a,b,c,d = test3()"
   ]
  },
  {
   "cell_type": "code",
   "execution_count": 22,
   "id": "492cc628",
   "metadata": {},
   "outputs": [
    {
     "data": {
      "text/plain": [
       "1"
      ]
     },
     "execution_count": 22,
     "metadata": {},
     "output_type": "execute_result"
    }
   ],
   "source": [
    "a"
   ]
  },
  {
   "cell_type": "code",
   "execution_count": 23,
   "id": "fc420ae5",
   "metadata": {},
   "outputs": [
    {
     "data": {
      "text/plain": [
       "3"
      ]
     },
     "execution_count": 23,
     "metadata": {},
     "output_type": "execute_result"
    }
   ],
   "source": [
    "b"
   ]
  },
  {
   "cell_type": "code",
   "execution_count": 24,
   "id": "6cbc18e3",
   "metadata": {},
   "outputs": [
    {
     "data": {
      "text/plain": [
       "5"
      ]
     },
     "execution_count": 24,
     "metadata": {},
     "output_type": "execute_result"
    }
   ],
   "source": [
    "c"
   ]
  },
  {
   "cell_type": "code",
   "execution_count": 25,
   "id": "c9a75ebd",
   "metadata": {},
   "outputs": [
    {
     "data": {
      "text/plain": [
       "[1, 2, 3, 4, 54, 5]"
      ]
     },
     "execution_count": 25,
     "metadata": {},
     "output_type": "execute_result"
    }
   ],
   "source": [
    "d"
   ]
  },
  {
   "cell_type": "markdown",
   "id": "e070c71d",
   "metadata": {},
   "source": [
    "### Assigning computed values"
   ]
  },
  {
   "cell_type": "code",
   "execution_count": 26,
   "id": "901a2e60",
   "metadata": {},
   "outputs": [],
   "source": [
    "def test4() : \n",
    "    a = 4*5\n",
    "    b = 6+4\n",
    "    return a , b"
   ]
  },
  {
   "cell_type": "code",
   "execution_count": 27,
   "id": "ec5d4ca9",
   "metadata": {},
   "outputs": [],
   "source": [
    "g = test4()"
   ]
  },
  {
   "cell_type": "code",
   "execution_count": 28,
   "id": "4d3dab97",
   "metadata": {},
   "outputs": [
    {
     "data": {
      "text/plain": [
       "(20, 10)"
      ]
     },
     "execution_count": 28,
     "metadata": {},
     "output_type": "execute_result"
    }
   ],
   "source": [
    "g"
   ]
  },
  {
   "cell_type": "code",
   "execution_count": 29,
   "id": "b37d399c",
   "metadata": {},
   "outputs": [],
   "source": [
    "j,k = test4()"
   ]
  },
  {
   "cell_type": "code",
   "execution_count": 30,
   "id": "3d70c304",
   "metadata": {},
   "outputs": [
    {
     "data": {
      "text/plain": [
       "20"
      ]
     },
     "execution_count": 30,
     "metadata": {},
     "output_type": "execute_result"
    }
   ],
   "source": [
    "j"
   ]
  },
  {
   "cell_type": "code",
   "execution_count": 31,
   "id": "2a7f78d3",
   "metadata": {},
   "outputs": [
    {
     "data": {
      "text/plain": [
       "10"
      ]
     },
     "execution_count": 31,
     "metadata": {},
     "output_type": "execute_result"
    }
   ],
   "source": [
    "k"
   ]
  },
  {
   "cell_type": "code",
   "execution_count": null,
   "id": "1fadef10",
   "metadata": {},
   "outputs": [],
   "source": []
  },
  {
   "cell_type": "code",
   "execution_count": 32,
   "id": "f667c7d7",
   "metadata": {},
   "outputs": [
    {
     "data": {
      "text/plain": [
       "(1, 3, 5, [1, 2, 3, 4, 54, 5])"
      ]
     },
     "execution_count": 32,
     "metadata": {},
     "output_type": "execute_result"
    }
   ],
   "source": [
    "test3()"
   ]
  },
  {
   "cell_type": "code",
   "execution_count": 33,
   "id": "21fab201",
   "metadata": {},
   "outputs": [],
   "source": [
    "_ ,_ , _ , g = test3()"
   ]
  },
  {
   "cell_type": "code",
   "execution_count": 34,
   "id": "a414ced0",
   "metadata": {},
   "outputs": [
    {
     "data": {
      "text/plain": [
       "[1, 2, 3, 4, 54, 5]"
      ]
     },
     "execution_count": 34,
     "metadata": {},
     "output_type": "execute_result"
    }
   ],
   "source": [
    "g"
   ]
  },
  {
   "cell_type": "markdown",
   "id": "d0b04b65",
   "metadata": {},
   "source": [
    "### While loop with function"
   ]
  },
  {
   "cell_type": "code",
   "execution_count": 35,
   "id": "ab47f358",
   "metadata": {},
   "outputs": [],
   "source": [
    "def test5() : \n",
    "    a  = 1\n",
    "    b = 10 \n",
    "    while a <=b :\n",
    "        print(a)\n",
    "        a = a +2\n",
    "    else :\n",
    "        print(\"print this else block\")\n",
    "    "
   ]
  },
  {
   "cell_type": "code",
   "execution_count": 36,
   "id": "dc3ada61",
   "metadata": {},
   "outputs": [
    {
     "name": "stdout",
     "output_type": "stream",
     "text": [
      "1\n",
      "3\n",
      "5\n",
      "7\n",
      "9\n",
      "print this else block\n"
     ]
    }
   ],
   "source": [
    "test5()"
   ]
  },
  {
   "cell_type": "markdown",
   "id": "ddce7358",
   "metadata": {},
   "source": [
    "### Function to append the values in empty list"
   ]
  },
  {
   "cell_type": "code",
   "execution_count": 37,
   "id": "19c27ab4",
   "metadata": {},
   "outputs": [],
   "source": [
    "def test5(a,b) : \n",
    "    l = []\n",
    "    while a <=b :\n",
    "        #print(a)\n",
    "        l.append(a)\n",
    "        a = a +2\n",
    "    \n",
    "    else :\n",
    "        print( \"print this else block\")\n",
    "    return l\n",
    "    "
   ]
  },
  {
   "cell_type": "code",
   "execution_count": 38,
   "id": "cdf28017",
   "metadata": {},
   "outputs": [
    {
     "name": "stdout",
     "output_type": "stream",
     "text": [
      "print this else block\n"
     ]
    },
    {
     "data": {
      "text/plain": [
       "[1, 3, 5, 7, 9]"
      ]
     },
     "execution_count": 38,
     "metadata": {},
     "output_type": "execute_result"
    }
   ],
   "source": [
    "test5(1,10)"
   ]
  },
  {
   "cell_type": "code",
   "execution_count": 39,
   "id": "7066ffd2",
   "metadata": {},
   "outputs": [
    {
     "name": "stdout",
     "output_type": "stream",
     "text": [
      "print this else block\n"
     ]
    },
    {
     "data": {
      "text/plain": [
       "[]"
      ]
     },
     "execution_count": 39,
     "metadata": {},
     "output_type": "execute_result"
    }
   ],
   "source": [
    "test5(30,2)"
   ]
  },
  {
   "cell_type": "markdown",
   "id": "a97210bb",
   "metadata": {},
   "source": [
    "### Filter values and append using for loop"
   ]
  },
  {
   "cell_type": "code",
   "execution_count": 40,
   "id": "ca7970d8",
   "metadata": {},
   "outputs": [],
   "source": [
    "l = [4,5,6,67,7,8,8,9,9,9, [3,4,5,6,7,7] , \"python\"]"
   ]
  },
  {
   "cell_type": "code",
   "execution_count": 41,
   "id": "6485e937",
   "metadata": {},
   "outputs": [],
   "source": [
    "l1 = []\n",
    "for i in l :\n",
    "    if type(i) == int:\n",
    "        l1.append(i)"
   ]
  },
  {
   "cell_type": "code",
   "execution_count": 42,
   "id": "3fb0b6fc",
   "metadata": {},
   "outputs": [
    {
     "data": {
      "text/plain": [
       "[4, 5, 6, 67, 7, 8, 8, 9, 9, 9]"
      ]
     },
     "execution_count": 42,
     "metadata": {},
     "output_type": "execute_result"
    }
   ],
   "source": [
    "l1"
   ]
  },
  {
   "cell_type": "code",
   "execution_count": null,
   "id": "2bdf8191",
   "metadata": {},
   "outputs": [],
   "source": []
  },
  {
   "cell_type": "code",
   "execution_count": 43,
   "id": "614d67d7",
   "metadata": {},
   "outputs": [],
   "source": [
    "def test7() : \n",
    "    l1 = []\n",
    "    for i in l :\n",
    "        if type(i) == int:\n",
    "            l1.append(i)\n",
    "    return l1\n",
    "    "
   ]
  },
  {
   "cell_type": "code",
   "execution_count": 44,
   "id": "415859ef",
   "metadata": {},
   "outputs": [
    {
     "data": {
      "text/plain": [
       "[4, 5, 6, 67, 7, 8, 8, 9, 9, 9]"
      ]
     },
     "execution_count": 44,
     "metadata": {},
     "output_type": "execute_result"
    }
   ],
   "source": [
    "test7()"
   ]
  },
  {
   "cell_type": "markdown",
   "id": "6cebf750",
   "metadata": {},
   "source": [
    "### FUNCTION TO USE ANY LIST AND FILTER INTEGER VALUES ONLY"
   ]
  },
  {
   "cell_type": "code",
   "execution_count": 45,
   "id": "a161cd85",
   "metadata": {},
   "outputs": [],
   "source": [
    "l3 = [345,45,5,5,6,5,\"python\",(4,6,6)]"
   ]
  },
  {
   "cell_type": "code",
   "execution_count": 46,
   "id": "d8fd990a",
   "metadata": {},
   "outputs": [
    {
     "ename": "TypeError",
     "evalue": "test7() takes 0 positional arguments but 1 was given",
     "output_type": "error",
     "traceback": [
      "\u001b[1;31m---------------------------------------------------------------------------\u001b[0m",
      "\u001b[1;31mTypeError\u001b[0m                                 Traceback (most recent call last)",
      "\u001b[1;32m~\\AppData\\Local\\Temp\\ipykernel_17252\\393017537.py\u001b[0m in \u001b[0;36m<module>\u001b[1;34m\u001b[0m\n\u001b[1;32m----> 1\u001b[1;33m \u001b[0mtest7\u001b[0m\u001b[1;33m(\u001b[0m\u001b[0ml3\u001b[0m\u001b[1;33m)\u001b[0m\u001b[1;33m\u001b[0m\u001b[1;33m\u001b[0m\u001b[0m\n\u001b[0m",
      "\u001b[1;31mTypeError\u001b[0m: test7() takes 0 positional arguments but 1 was given"
     ]
    }
   ],
   "source": [
    "test7(l3)"
   ]
  },
  {
   "cell_type": "code",
   "execution_count": null,
   "id": "befb05f0",
   "metadata": {},
   "outputs": [],
   "source": [
    "t = (3,4,5,6,67,7,87,)\n",
    "a=-1\n",
    "while a>=-len(t):\n",
    "    if t[a]==6 or t[a]==7 :\n",
    "        print('index of ',t[a], ' is ',a)\n",
    "    a=a-1"
   ]
  },
  {
   "cell_type": "markdown",
   "id": "21c928bd",
   "metadata": {},
   "source": [
    "### FUNCTION TO USE ANY tuple AND FILTER INTEGER VALUES ONLY"
   ]
  },
  {
   "cell_type": "code",
   "execution_count": 47,
   "id": "e0a34bd4",
   "metadata": {},
   "outputs": [],
   "source": [
    "def test8(t):\n",
    "    a=-1\n",
    "    while a>=-len(t):\n",
    "        if t[a]==6 or t[a]==7 :\n",
    "            print('index of ',t[a], ' is ',a)\n",
    "        a=a-1\n",
    "    "
   ]
  },
  {
   "cell_type": "code",
   "execution_count": 48,
   "id": "e827b597",
   "metadata": {},
   "outputs": [
    {
     "name": "stdout",
     "output_type": "stream",
     "text": [
      "index of  7  is  -3\n",
      "index of  6  is  -4\n"
     ]
    }
   ],
   "source": [
    "test8(t)"
   ]
  },
  {
   "cell_type": "code",
   "execution_count": 49,
   "id": "bc639147",
   "metadata": {},
   "outputs": [
    {
     "name": "stdout",
     "output_type": "stream",
     "text": [
      "index of  7  is  -2\n",
      "index of  7  is  -3\n",
      "index of  7  is  -4\n",
      "index of  6  is  -5\n",
      "index of  6  is  -6\n"
     ]
    }
   ],
   "source": [
    "test8((3,4,4,6,6,7,7,7,88))"
   ]
  },
  {
   "cell_type": "markdown",
   "id": "b5552010",
   "metadata": {},
   "source": [
    "# PYTHON IMPLEMENTATIONS"
   ]
  },
  {
   "cell_type": "markdown",
   "id": "889aae43",
   "metadata": {},
   "source": [
    "### print all the number divisible by 3 in between a range of 40 - 400"
   ]
  },
  {
   "cell_type": "code",
   "execution_count": 50,
   "id": "f612f31a",
   "metadata": {},
   "outputs": [
    {
     "name": "stdout",
     "output_type": "stream",
     "text": [
      "40\n",
      "41\n",
      "42\n",
      "43\n",
      "44\n",
      "45\n",
      "46\n",
      "47\n",
      "48\n",
      "49\n",
      "50\n",
      "51\n",
      "52\n",
      "53\n",
      "54\n",
      "55\n",
      "56\n",
      "57\n",
      "58\n",
      "59\n",
      "60\n",
      "61\n",
      "62\n",
      "63\n",
      "64\n",
      "65\n",
      "66\n",
      "67\n",
      "68\n",
      "69\n",
      "70\n",
      "71\n",
      "72\n",
      "73\n",
      "74\n",
      "75\n",
      "76\n",
      "77\n",
      "78\n",
      "79\n",
      "80\n",
      "81\n",
      "82\n",
      "83\n",
      "84\n",
      "85\n",
      "86\n",
      "87\n",
      "88\n",
      "89\n",
      "90\n",
      "91\n",
      "92\n",
      "93\n",
      "94\n",
      "95\n",
      "96\n",
      "97\n",
      "98\n",
      "99\n",
      "100\n",
      "101\n",
      "102\n",
      "103\n",
      "104\n",
      "105\n",
      "106\n",
      "107\n",
      "108\n",
      "109\n",
      "110\n",
      "111\n",
      "112\n",
      "113\n",
      "114\n",
      "115\n",
      "116\n",
      "117\n",
      "118\n",
      "119\n",
      "120\n",
      "121\n",
      "122\n",
      "123\n",
      "124\n",
      "125\n",
      "126\n",
      "127\n",
      "128\n",
      "129\n",
      "130\n",
      "131\n",
      "132\n",
      "133\n",
      "134\n",
      "135\n",
      "136\n",
      "137\n",
      "138\n",
      "139\n",
      "140\n",
      "141\n",
      "142\n",
      "143\n",
      "144\n",
      "145\n",
      "146\n",
      "147\n",
      "148\n",
      "149\n",
      "150\n",
      "151\n",
      "152\n",
      "153\n",
      "154\n",
      "155\n",
      "156\n",
      "157\n",
      "158\n",
      "159\n",
      "160\n",
      "161\n",
      "162\n",
      "163\n",
      "164\n",
      "165\n",
      "166\n",
      "167\n",
      "168\n",
      "169\n",
      "170\n",
      "171\n",
      "172\n",
      "173\n",
      "174\n",
      "175\n",
      "176\n",
      "177\n",
      "178\n",
      "179\n",
      "180\n",
      "181\n",
      "182\n",
      "183\n",
      "184\n",
      "185\n",
      "186\n",
      "187\n",
      "188\n",
      "189\n",
      "190\n",
      "191\n",
      "192\n",
      "193\n",
      "194\n",
      "195\n",
      "196\n",
      "197\n",
      "198\n",
      "199\n",
      "200\n",
      "201\n",
      "202\n",
      "203\n",
      "204\n",
      "205\n",
      "206\n",
      "207\n",
      "208\n",
      "209\n",
      "210\n",
      "211\n",
      "212\n",
      "213\n",
      "214\n",
      "215\n",
      "216\n",
      "217\n",
      "218\n",
      "219\n",
      "220\n",
      "221\n",
      "222\n",
      "223\n",
      "224\n",
      "225\n",
      "226\n",
      "227\n",
      "228\n",
      "229\n",
      "230\n",
      "231\n",
      "232\n",
      "233\n",
      "234\n",
      "235\n",
      "236\n",
      "237\n",
      "238\n",
      "239\n",
      "240\n",
      "241\n",
      "242\n",
      "243\n",
      "244\n",
      "245\n",
      "246\n",
      "247\n",
      "248\n",
      "249\n",
      "250\n",
      "251\n",
      "252\n",
      "253\n",
      "254\n",
      "255\n",
      "256\n",
      "257\n",
      "258\n",
      "259\n",
      "260\n",
      "261\n",
      "262\n",
      "263\n",
      "264\n",
      "265\n",
      "266\n",
      "267\n",
      "268\n",
      "269\n",
      "270\n",
      "271\n",
      "272\n",
      "273\n",
      "274\n",
      "275\n",
      "276\n",
      "277\n",
      "278\n",
      "279\n",
      "280\n",
      "281\n",
      "282\n",
      "283\n",
      "284\n",
      "285\n",
      "286\n",
      "287\n",
      "288\n",
      "289\n",
      "290\n",
      "291\n",
      "292\n",
      "293\n",
      "294\n",
      "295\n",
      "296\n",
      "297\n",
      "298\n",
      "299\n",
      "300\n",
      "301\n",
      "302\n",
      "303\n",
      "304\n",
      "305\n",
      "306\n",
      "307\n",
      "308\n",
      "309\n",
      "310\n",
      "311\n",
      "312\n",
      "313\n",
      "314\n",
      "315\n",
      "316\n",
      "317\n",
      "318\n",
      "319\n",
      "320\n",
      "321\n",
      "322\n",
      "323\n",
      "324\n",
      "325\n",
      "326\n",
      "327\n",
      "328\n",
      "329\n",
      "330\n",
      "331\n",
      "332\n",
      "333\n",
      "334\n",
      "335\n",
      "336\n",
      "337\n",
      "338\n",
      "339\n",
      "340\n",
      "341\n",
      "342\n",
      "343\n",
      "344\n",
      "345\n",
      "346\n",
      "347\n",
      "348\n",
      "349\n",
      "350\n",
      "351\n",
      "352\n",
      "353\n",
      "354\n",
      "355\n",
      "356\n",
      "357\n",
      "358\n",
      "359\n",
      "360\n",
      "361\n",
      "362\n",
      "363\n",
      "364\n",
      "365\n",
      "366\n",
      "367\n",
      "368\n",
      "369\n",
      "370\n",
      "371\n",
      "372\n",
      "373\n",
      "374\n",
      "375\n",
      "376\n",
      "377\n",
      "378\n",
      "379\n",
      "380\n",
      "381\n",
      "382\n",
      "383\n",
      "384\n",
      "385\n",
      "386\n",
      "387\n",
      "388\n",
      "389\n",
      "390\n",
      "391\n",
      "392\n",
      "393\n",
      "394\n",
      "395\n",
      "396\n",
      "397\n",
      "398\n",
      "399\n",
      "400\n"
     ]
    }
   ],
   "source": [
    "for i in range(40, 401):\n",
    "    i % 3 == 0\n",
    "    print(i)\n"
   ]
  },
  {
   "cell_type": "markdown",
   "id": "a3aa8ed2",
   "metadata": {},
   "source": [
    "### Try to filter out all the vowels form below text by using while loop "
   ]
  },
  {
   "cell_type": "code",
   "execution_count": 52,
   "id": "50429eaf",
   "metadata": {},
   "outputs": [],
   "source": [
    "text = \"\"\"Python is a high-level, interpreted, general-purpose programming language. Its design philosophy emphasizes code readability with the use of significant indentation.[32]\n",
    "\n",
    "Python is dynamically-typed and garbage-collected. It supports multiple programming paradigms, including structured (particularly procedural), object-oriented and functional programming. It is often described as a \"batteries included\" language due to its comprehensive standard library.[33][34]\n",
    "\n",
    "Guido van Rossum began working on Python in the late 1980s as a successor to the ABC programming language and first released it in 1991 as Python 0.9.0.[35] Python 2.0 was released in 2000 and introduced new features such as list comprehensions, cycle-detecting garbage collection, reference counting, and Unicode support. Python 3.0, released in 2008, was a major revision that is not completely backward-compatible with earlier versions. Python 2 was discontinued with version 2.7.18 in 2020.[36]\n",
    "\n",
    "Python consistently ranks as one of the most popular programming languagesc\"\"\" \n"
   ]
  },
  {
   "cell_type": "code",
   "execution_count": 53,
   "id": "22a9dacf",
   "metadata": {},
   "outputs": [
    {
     "name": "stdout",
     "output_type": "stream",
     "text": [
      "oiaieeieeeeeauoeoaiauaeIeiiooeaieoeeaaiiieueoiiiaieaiooiaiaeaaaeoeeIuouieoaiaaiiuiuueaiuaoeuaoeoieeauioaoaiIioeeieaaaeieiueauaeueoioeeieaaiauioaoueaoiooieaeaaueooeAoaiauaeaieeaeiiaooaeeaeiaioueeeaueuaioeeioeeeiaaeoeioeeeeouiaUioeuooeeaeiaaaoeiioaiooeeaaoaieieaieeiooaioiueieioiooieaaoeoeoouaoaiauae\n"
     ]
    }
   ],
   "source": [
    "vowels = \"aeiouAEIOU\"\n",
    "filtered_text = \"\"\n",
    "i = 0\n",
    "while i < len(text):\n",
    "    if text[i] in vowels:\n",
    "        filtered_text += text[i]\n",
    "    i += 1\n",
    "print(filtered_text)"
   ]
  },
  {
   "cell_type": "markdown",
   "id": "8511edb6",
   "metadata": {},
   "source": [
    "### generate all the even number between 1- 1000\n"
   ]
  },
  {
   "cell_type": "code",
   "execution_count": 54,
   "id": "1dcc7cc0",
   "metadata": {},
   "outputs": [
    {
     "name": "stdout",
     "output_type": "stream",
     "text": [
      "2\n",
      "4\n",
      "6\n",
      "8\n",
      "10\n",
      "12\n",
      "14\n",
      "16\n",
      "18\n",
      "20\n",
      "22\n",
      "24\n",
      "26\n",
      "28\n",
      "30\n",
      "32\n",
      "34\n",
      "36\n",
      "38\n",
      "40\n",
      "42\n",
      "44\n",
      "46\n",
      "48\n",
      "50\n",
      "52\n",
      "54\n",
      "56\n",
      "58\n",
      "60\n",
      "62\n",
      "64\n",
      "66\n",
      "68\n",
      "70\n",
      "72\n",
      "74\n",
      "76\n",
      "78\n",
      "80\n",
      "82\n",
      "84\n",
      "86\n",
      "88\n",
      "90\n",
      "92\n",
      "94\n",
      "96\n",
      "98\n",
      "100\n",
      "102\n",
      "104\n",
      "106\n",
      "108\n",
      "110\n",
      "112\n",
      "114\n",
      "116\n",
      "118\n",
      "120\n",
      "122\n",
      "124\n",
      "126\n",
      "128\n",
      "130\n",
      "132\n",
      "134\n",
      "136\n",
      "138\n",
      "140\n",
      "142\n",
      "144\n",
      "146\n",
      "148\n",
      "150\n",
      "152\n",
      "154\n",
      "156\n",
      "158\n",
      "160\n",
      "162\n",
      "164\n",
      "166\n",
      "168\n",
      "170\n",
      "172\n",
      "174\n",
      "176\n",
      "178\n",
      "180\n",
      "182\n",
      "184\n",
      "186\n",
      "188\n",
      "190\n",
      "192\n",
      "194\n",
      "196\n",
      "198\n",
      "200\n",
      "202\n",
      "204\n",
      "206\n",
      "208\n",
      "210\n",
      "212\n",
      "214\n",
      "216\n",
      "218\n",
      "220\n",
      "222\n",
      "224\n",
      "226\n",
      "228\n",
      "230\n",
      "232\n",
      "234\n",
      "236\n",
      "238\n",
      "240\n",
      "242\n",
      "244\n",
      "246\n",
      "248\n",
      "250\n",
      "252\n",
      "254\n",
      "256\n",
      "258\n",
      "260\n",
      "262\n",
      "264\n",
      "266\n",
      "268\n",
      "270\n",
      "272\n",
      "274\n",
      "276\n",
      "278\n",
      "280\n",
      "282\n",
      "284\n",
      "286\n",
      "288\n",
      "290\n",
      "292\n",
      "294\n",
      "296\n",
      "298\n",
      "300\n",
      "302\n",
      "304\n",
      "306\n",
      "308\n",
      "310\n",
      "312\n",
      "314\n",
      "316\n",
      "318\n",
      "320\n",
      "322\n",
      "324\n",
      "326\n",
      "328\n",
      "330\n",
      "332\n",
      "334\n",
      "336\n",
      "338\n",
      "340\n",
      "342\n",
      "344\n",
      "346\n",
      "348\n",
      "350\n",
      "352\n",
      "354\n",
      "356\n",
      "358\n",
      "360\n",
      "362\n",
      "364\n",
      "366\n",
      "368\n",
      "370\n",
      "372\n",
      "374\n",
      "376\n",
      "378\n",
      "380\n",
      "382\n",
      "384\n",
      "386\n",
      "388\n",
      "390\n",
      "392\n",
      "394\n",
      "396\n",
      "398\n",
      "400\n",
      "402\n",
      "404\n",
      "406\n",
      "408\n",
      "410\n",
      "412\n",
      "414\n",
      "416\n",
      "418\n",
      "420\n",
      "422\n",
      "424\n",
      "426\n",
      "428\n",
      "430\n",
      "432\n",
      "434\n",
      "436\n",
      "438\n",
      "440\n",
      "442\n",
      "444\n",
      "446\n",
      "448\n",
      "450\n",
      "452\n",
      "454\n",
      "456\n",
      "458\n",
      "460\n",
      "462\n",
      "464\n",
      "466\n",
      "468\n",
      "470\n",
      "472\n",
      "474\n",
      "476\n",
      "478\n",
      "480\n",
      "482\n",
      "484\n",
      "486\n",
      "488\n",
      "490\n",
      "492\n",
      "494\n",
      "496\n",
      "498\n",
      "500\n",
      "502\n",
      "504\n",
      "506\n",
      "508\n",
      "510\n",
      "512\n",
      "514\n",
      "516\n",
      "518\n",
      "520\n",
      "522\n",
      "524\n",
      "526\n",
      "528\n",
      "530\n",
      "532\n",
      "534\n",
      "536\n",
      "538\n",
      "540\n",
      "542\n",
      "544\n",
      "546\n",
      "548\n",
      "550\n",
      "552\n",
      "554\n",
      "556\n",
      "558\n",
      "560\n",
      "562\n",
      "564\n",
      "566\n",
      "568\n",
      "570\n",
      "572\n",
      "574\n",
      "576\n",
      "578\n",
      "580\n",
      "582\n",
      "584\n",
      "586\n",
      "588\n",
      "590\n",
      "592\n",
      "594\n",
      "596\n",
      "598\n",
      "600\n",
      "602\n",
      "604\n",
      "606\n",
      "608\n",
      "610\n",
      "612\n",
      "614\n",
      "616\n",
      "618\n",
      "620\n",
      "622\n",
      "624\n",
      "626\n",
      "628\n",
      "630\n",
      "632\n",
      "634\n",
      "636\n",
      "638\n",
      "640\n",
      "642\n",
      "644\n",
      "646\n",
      "648\n",
      "650\n",
      "652\n",
      "654\n",
      "656\n",
      "658\n",
      "660\n",
      "662\n",
      "664\n",
      "666\n",
      "668\n",
      "670\n",
      "672\n",
      "674\n",
      "676\n",
      "678\n",
      "680\n",
      "682\n",
      "684\n",
      "686\n",
      "688\n",
      "690\n",
      "692\n",
      "694\n",
      "696\n",
      "698\n",
      "700\n",
      "702\n",
      "704\n",
      "706\n",
      "708\n",
      "710\n",
      "712\n",
      "714\n",
      "716\n",
      "718\n",
      "720\n",
      "722\n",
      "724\n",
      "726\n",
      "728\n",
      "730\n",
      "732\n",
      "734\n",
      "736\n",
      "738\n",
      "740\n",
      "742\n",
      "744\n",
      "746\n",
      "748\n",
      "750\n",
      "752\n",
      "754\n",
      "756\n",
      "758\n",
      "760\n",
      "762\n",
      "764\n",
      "766\n",
      "768\n",
      "770\n",
      "772\n",
      "774\n",
      "776\n",
      "778\n",
      "780\n",
      "782\n",
      "784\n",
      "786\n",
      "788\n",
      "790\n",
      "792\n",
      "794\n",
      "796\n",
      "798\n",
      "800\n",
      "802\n",
      "804\n",
      "806\n",
      "808\n",
      "810\n",
      "812\n",
      "814\n",
      "816\n",
      "818\n",
      "820\n",
      "822\n",
      "824\n",
      "826\n",
      "828\n",
      "830\n",
      "832\n",
      "834\n",
      "836\n",
      "838\n",
      "840\n",
      "842\n",
      "844\n",
      "846\n",
      "848\n",
      "850\n",
      "852\n",
      "854\n",
      "856\n",
      "858\n",
      "860\n",
      "862\n",
      "864\n",
      "866\n",
      "868\n",
      "870\n",
      "872\n",
      "874\n",
      "876\n",
      "878\n",
      "880\n",
      "882\n",
      "884\n",
      "886\n",
      "888\n",
      "890\n",
      "892\n",
      "894\n",
      "896\n",
      "898\n",
      "900\n",
      "902\n",
      "904\n",
      "906\n",
      "908\n",
      "910\n",
      "912\n",
      "914\n",
      "916\n",
      "918\n",
      "920\n",
      "922\n",
      "924\n",
      "926\n",
      "928\n",
      "930\n",
      "932\n",
      "934\n",
      "936\n",
      "938\n",
      "940\n",
      "942\n",
      "944\n",
      "946\n",
      "948\n",
      "950\n",
      "952\n",
      "954\n",
      "956\n",
      "958\n",
      "960\n",
      "962\n",
      "964\n",
      "966\n",
      "968\n",
      "970\n",
      "972\n",
      "974\n",
      "976\n",
      "978\n",
      "980\n",
      "982\n",
      "984\n",
      "986\n",
      "988\n",
      "990\n",
      "992\n",
      "994\n",
      "996\n",
      "998\n",
      "1000\n"
     ]
    }
   ],
   "source": [
    "for i in range(1,1001):\n",
    "    if i % 2 == 0:\n",
    "        print(i)"
   ]
  },
  {
   "cell_type": "markdown",
   "id": "ca4e338d",
   "metadata": {},
   "source": [
    "### code to get a time of your system"
   ]
  },
  {
   "cell_type": "code",
   "execution_count": 55,
   "id": "79f59365",
   "metadata": {},
   "outputs": [
    {
     "name": "stdout",
     "output_type": "stream",
     "text": [
      "Current time:  20:15:46.714243\n"
     ]
    }
   ],
   "source": [
    "import datetime\n",
    "\n",
    "# get the current time\n",
    "now = datetime.datetime.now()\n",
    "\n",
    "# print the time\n",
    "print(\"Current time: \", now.time())"
   ]
  },
  {
   "cell_type": "markdown",
   "id": "139b9e31",
   "metadata": {},
   "source": [
    "### code to fetch date form your system"
   ]
  },
  {
   "cell_type": "code",
   "execution_count": 56,
   "id": "8fa2040b",
   "metadata": {},
   "outputs": [
    {
     "name": "stdout",
     "output_type": "stream",
     "text": [
      "Today's date:  2023-03-20\n"
     ]
    }
   ],
   "source": [
    "import datetime\n",
    "\n",
    "# get the current date\n",
    "today = datetime.date.today()\n",
    "\n",
    "# print the date\n",
    "print(\"Today's date: \", today)"
   ]
  },
  {
   "cell_type": "markdown",
   "id": "77ede5ea",
   "metadata": {},
   "source": [
    "### Write a code to send a mail to your friend "
   ]
  },
  {
   "cell_type": "code",
   "execution_count": 57,
   "id": "9f891897",
   "metadata": {},
   "outputs": [],
   "source": [
    "import smtplib\n",
    "from email.mime.text import MIMEText\n",
    "from email.mime.multipart import MIMEMultipart"
   ]
  },
  {
   "cell_type": "code",
   "execution_count": null,
   "id": "dbf30ff8",
   "metadata": {},
   "outputs": [],
   "source": [
    "# Set up the email parameters\n",
    "sender_email = \"padmeshkg@gmail.com\"\n",
    "receiver_email = \"deveshbhardwaj14@gmail.com\"\n",
    "password = \"**********\"\n",
    "\n",
    "message = MIMEMultipart(\"alternative\")\n",
    "message[\"Subject\"] = \"Email via python code\"\n",
    "message[\"From\"] = sender_email\n",
    "message[\"To\"] = receiver_email\n",
    "\n",
    "# Add body to email\n",
    "text = \"Hello, this email is from python code\"\n",
    "message.attach(MIMEText(text, \"plain\"))\n",
    "\n",
    "# Create secure connection with server and send email\n",
    "context = smtplib.SMTP_SSL(\"smtp.gmail.com\", 465)\n",
    "context.login(sender_email, password)\n",
    "context.sendmail(sender_email, receiver_email, message.as_string())\n",
    "context.quit()\n",
    "\n",
    "print(\"Email sent successfully to\", receiver_email)"
   ]
  },
  {
   "cell_type": "code",
   "execution_count": null,
   "id": "066c9ef9",
   "metadata": {},
   "outputs": [],
   "source": []
  },
  {
   "cell_type": "code",
   "execution_count": null,
   "id": "19f099e5",
   "metadata": {},
   "outputs": [],
   "source": []
  },
  {
   "cell_type": "markdown",
   "id": "a81c9418",
   "metadata": {},
   "source": [
    "    \n",
    "q10 : write a code to trigger alarm for you at scheduled time \n",
    "\n",
    "q11 : write a code to check ip address of your system \n",
    "\n",
    "q12 : Write a code to check a perticular installation in your system\n",
    "\n",
    "q13 : Write a code to convert any text in to voice \n",
    "\n",
    "q14 : you have to write a fun which will take string and return a len of \n",
    "it without using a inbuilt fun len\n",
    "\n",
    "q15 :write a fun which will be able to print an index of all premitive element which you will pass \n",
    "\n",
    "q16 : Write a fun which will take input as a dict and give me out as a list of all the values \n",
    "even in case of 2 level nesting it should work . \n",
    "\n",
    "q17 : write a function whihc will take multiple list as a input and give me concatnation of all the element as \n",
    "and output\n",
    "\n",
    "q18 : Write a function which will whould return list of all the file name from a directory . \n",
    "\n",
    "q19 : write a function whihc will be able to read a image file and show it to you .\n",
    "    \n",
    "q20 : write a function by which you will be able to append two PDF files . \n",
    "    \n",
    "q21 : write a function which can help you to filter only word file from a directory . \n",
    "    \n",
    "q22 : write a function which can read video file and play for you . \n",
    "    \n",
    "q23 : write a function which will be able to shutdonw your system . \n",
    "\n",
    "q24 : Write a function which will whould return list of all the file name from a directory . \n",
    "\n",
    "q25 : write a function whihc will be able to access your mail . \n",
    "        "
   ]
  },
  {
   "cell_type": "code",
   "execution_count": 58,
   "id": "40bf261f",
   "metadata": {},
   "outputs": [
    {
     "name": "stdout",
     "output_type": "stream",
     "text": [
      "              python        \n",
      "       python        python        \n",
      "python        python        python        \n",
      "       python        python \n",
      "\n",
      "             python \n",
      "\n"
     ]
    }
   ],
   "source": [
    "import math\n",
    "\n",
    "n2=5\n",
    "str=\"python\"\n",
    "middle=math.floor(n2/2) if n2%2==0 else math.ceil(n2/2)\n",
    "# first half\n",
    "for l in range(1,n2+1):\n",
    "    if l<=middle:\n",
    "        k=middle-l\n",
    "        for i in range(k):\n",
    "            print(\" \"*len(str),end=\" \")\n",
    "        print((str+\" \"+\" \"*len(str)+\" \")*l)\n",
    "    else: # last half in reverse order\n",
    "        r_spc=l-middle\n",
    "        r= n2-l+1 #(5+1-4,5+1-5)\n",
    "        for r2 in range(r):\n",
    "            print(\" \"*len(str)*r_spc,str,end= \" \")\n",
    "        print(\"\\n\")"
   ]
  },
  {
   "cell_type": "code",
   "execution_count": 59,
   "id": "a4b00bae",
   "metadata": {},
   "outputs": [
    {
     "name": "stdout",
     "output_type": "stream",
     "text": [
      "Multipilcation of <class 'list'> is 24\n",
      "Multipilcation of <class 'tuple'> is 720\n",
      "Multipilcation of <class 'tuple'> is 2520\n",
      "Multipilcation of <class 'set'> is 20700\n",
      "Multipilcation of <class 'dict'> is 1008\n",
      "Multipilcation of <class 'list'> is 1\n"
     ]
    }
   ],
   "source": [
    "l = [[1,2,3,4],(2,3,4,5,6),(3,4,5,6,7),set([23,4,5,45,4,4,5,45,45,4,5]),{'k1':'sudh','k2':'ineuron','k3':'kumar',3:6,7:8},['ineuron','data science']]\n",
    "\n",
    "for i in l:\n",
    "    m = 1\n",
    "    if type(i) == tuple or type(i) == list or type(i) == set :\n",
    "        for j in i:\n",
    "            if type(j) == int:\n",
    "                m *= j\n",
    "        print('Multipilcation of',type(i),'is',m)\n",
    "    if type(i) == dict:\n",
    "        for k,v in i.items():\n",
    "            if type(k) == int and type(v) == int:\n",
    "                m = m * k\n",
    "                m = m * v\n",
    "        print('Multipilcation of',type(i),'is',m)           \n"
   ]
  },
  {
   "cell_type": "code",
   "execution_count": null,
   "id": "add8c47a",
   "metadata": {},
   "outputs": [],
   "source": []
  }
 ],
 "metadata": {
  "kernelspec": {
   "display_name": "Python 3 (ipykernel)",
   "language": "python",
   "name": "python3"
  },
  "language_info": {
   "codemirror_mode": {
    "name": "ipython",
    "version": 3
   },
   "file_extension": ".py",
   "mimetype": "text/x-python",
   "name": "python",
   "nbconvert_exporter": "python",
   "pygments_lexer": "ipython3",
   "version": "3.9.13"
  }
 },
 "nbformat": 4,
 "nbformat_minor": 5
}
